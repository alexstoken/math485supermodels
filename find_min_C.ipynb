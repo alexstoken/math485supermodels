{
 "cells": [
  {
   "cell_type": "markdown",
   "metadata": {},
   "source": [
    "Math 485 Spring 2019 Prof Lega\n",
    "Supermodel Group\n",
    "\n",
    "Created by: Alex Stoken 18 Feb 2019\n",
    "\n",
    "Last updated:\n",
    "\n",
    "This file takes input data and returns the minimum connection coefficient vector C"
   ]
  },
  {
   "cell_type": "code",
   "execution_count": 21,
   "metadata": {},
   "outputs": [],
   "source": [
    "import numpy as np\n",
    "import scipy.optimize as optimize\n",
    "import scipy.integrate as integrate"
   ]
  },
  {
   "cell_type": "code",
   "execution_count": 22,
   "metadata": {},
   "outputs": [],
   "source": [
    "def cost_fn(C, K =200, gamma= 0.4, delta =1):\n",
    "    \"\"\"\n",
    "    \n",
    "    \"\"\"\n",
    "    \n",
    "    #take the integral of the lorentz system with the given Cs\n",
    "    sum_k = 0\n",
    "    for i in k:  \n",
    "        sum_k += integrate.solve_ivp(lorentz)\n",
    "    \n",
    "    \n",
    "    \n",
    "    norm = 1/ (K * delta)\n",
    "    return sum_k * norm\n",
    "\n",
    "\n",
    "def lorentz( data, l_0, C, model_num, t0, sig = 10, rho = 28, beta = 8 /3):\n",
    "    \"\"\"\n",
    "    Parameters:\n",
    "    sigma, rho, beta - model parameters from climate data\n",
    "    l_0 - t-1 values of l vector (l_x, l_y, l_z,t)\n",
    "    \n",
    "    Returns: \n",
    "    l vector for next timestep \n",
    "    \"\"\"\n",
    "    #C_x = \n",
    "    #C_y =\n",
    "    #C_z =\n",
    "    \n",
    "    dx = sig * (l_0[1] -l_0[0]) + C_x\n",
    "    dy = l_0[0] * (rho - l_0[2]) - l_0[1] + C_y\n",
    "    dz = l_0[0] * l_0[1] - beta *l_0[2] +C_z\n",
    "    dt = t-t0\n",
    "    \n",
    "    \n",
    "    l = [l_0[0]+ dx *dt,l_0[1]+ dy *dt,l_0[2] + dz *dt]\n",
    "    \n",
    "    return l"
   ]
  },
  {
   "cell_type": "code",
   "execution_count": 27,
   "metadata": {},
   "outputs": [
    {
     "name": "stdout",
     "output_type": "stream",
     "text": [
      "[0. 0. 0. 0. 0. 0. 0. 0. 0.]\n"
     ]
    },
    {
     "ename": "NameError",
     "evalue": "name 'C_init' is not defined",
     "output_type": "error",
     "traceback": [
      "\u001b[0;31m---------------------------------------------------------------------------\u001b[0m",
      "\u001b[0;31mNameError\u001b[0m                                 Traceback (most recent call last)",
      "\u001b[0;32m<ipython-input-27-60bbe086fc4a>\u001b[0m in \u001b[0;36m<module>\u001b[0;34m\u001b[0m\n\u001b[1;32m      9\u001b[0m \u001b[0mC_opt_guess\u001b[0m \u001b[0;34m=\u001b[0m \u001b[0mnp\u001b[0m\u001b[0;34m.\u001b[0m\u001b[0mzeros\u001b[0m\u001b[0;34m(\u001b[0m\u001b[0;36m9\u001b[0m\u001b[0;34m)\u001b[0m\u001b[0;34m\u001b[0m\u001b[0;34m\u001b[0m\u001b[0m\n\u001b[1;32m     10\u001b[0m \u001b[0mprint\u001b[0m\u001b[0;34m(\u001b[0m\u001b[0mC_opt_guess\u001b[0m\u001b[0;34m)\u001b[0m\u001b[0;34m\u001b[0m\u001b[0;34m\u001b[0m\u001b[0m\n\u001b[0;32m---> 11\u001b[0;31m \u001b[0mC\u001b[0m \u001b[0;34m=\u001b[0m \u001b[0moptimize\u001b[0m\u001b[0;34m.\u001b[0m\u001b[0mfmin_cg\u001b[0m\u001b[0;34m(\u001b[0m\u001b[0mcost_fn\u001b[0m\u001b[0;34m,\u001b[0m \u001b[0mC_opt_guess\u001b[0m\u001b[0;34m,\u001b[0m \u001b[0margs\u001b[0m\u001b[0;34m=\u001b[0m\u001b[0;34m(\u001b[0m\u001b[0mC_init\u001b[0m\u001b[0;34m,\u001b[0m \u001b[0mK\u001b[0m\u001b[0;34m,\u001b[0m\u001b[0mgamma\u001b[0m\u001b[0;34m,\u001b[0m\u001b[0mdelta\u001b[0m\u001b[0;34m)\u001b[0m\u001b[0;34m,\u001b[0m \u001b[0mfull_output\u001b[0m\u001b[0;34m=\u001b[0m\u001b[0;32mTrue\u001b[0m\u001b[0;34m)\u001b[0m\u001b[0;34m\u001b[0m\u001b[0;34m\u001b[0m\u001b[0m\n\u001b[0m\u001b[1;32m     12\u001b[0m \u001b[0;34m\u001b[0m\u001b[0m\n",
      "\u001b[0;31mNameError\u001b[0m: name 'C_init' is not defined"
     ]
    }
   ],
   "source": [
    "#need to look this up in the \n",
    "\n",
    "#initial conditions\n",
    "gamma = 0.4\n",
    "delta = 1\n",
    "\n",
    "#C_init =np.array([c11,c12,c13,c21,c22,c23,c31,c32,c33])\n",
    "\n",
    "C_opt_guess = np.zeros(9)\n",
    "\n",
    "C = optimize.fmin_cg(cost_fn, C_opt_guess, args=(C_init, K,gamma,delta), full_output=True)\n",
    "\n"
   ]
  },
  {
   "cell_type": "code",
   "execution_count": null,
   "metadata": {},
   "outputs": [],
   "source": [
    "#inital parameters for lorentz 63"
   ]
  }
 ],
 "metadata": {
  "kernelspec": {
   "display_name": "Python 3",
   "language": "python",
   "name": "python3"
  },
  "language_info": {
   "codemirror_mode": {
    "name": "ipython",
    "version": 3
   },
   "file_extension": ".py",
   "mimetype": "text/x-python",
   "name": "python",
   "nbconvert_exporter": "python",
   "pygments_lexer": "ipython3",
   "version": "3.7.2"
  }
 },
 "nbformat": 4,
 "nbformat_minor": 2
}
