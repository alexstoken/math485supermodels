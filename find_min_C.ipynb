{
 "cells": [
  {
   "cell_type": "markdown",
   "metadata": {},
   "source": [
    "Math 485 Spring 2019 Prof Lega\n",
    "Supermodel Group\n",
    "\n",
    "Created by: Alex Stoken 18 Feb 2019\n",
    "\n",
    "Last updated:\n",
    "\n",
    "This file takes input data and returns the minimum connection coefficient vector C"
   ]
  },
  {
   "cell_type": "code",
   "execution_count": 6,
   "metadata": {},
   "outputs": [],
   "source": [
    "import numpy as np\n",
    "import scipy.optimize as optimize\n",
    "import "
   ]
  },
  {
   "cell_type": "code",
   "execution_count": 13,
   "metadata": {},
   "outputs": [],
   "source": [
    "def cost_fn(C_init, K, gamma, delta):\n",
    "    \"\"\"\n",
    "    \n",
    "    \"\"\"\n",
    "    \n",
    "    return F\n",
    "\n",
    "\n",
    "def lorentz_system(sig, rho, beta, l_0, C, model_num, t0):\n",
    "    \"\"\"\n",
    "    Parameters:\n",
    "    sigma, rho, beta - model parameters from climate data\n",
    "    l_0 - t-1 values of l vector (l_x, l_y, l_z,t)\n",
    "    \n",
    "    Returns: \n",
    "    l vector for next timestep \n",
    "    \"\"\"\n",
    "    #C_x = \n",
    "    #C_y =\n",
    "    #C_z =\n",
    "    \n",
    "    dx = sig * (l_0[1] -l_0[0]) + C_x\n",
    "    dy = l_0[0] * (rho - l_0[2]) - l_0[1] + C_y\n",
    "    dz = l_0[0] * l_0[1] - beta *l_0[2] +C_z\n",
    "    dt = t-t0\n",
    "    \n",
    "    \n",
    "    l = [l_0[0]+ dx *dt,l_0[1]+ dy *dt,l_0[2] + dz *dt]\n",
    "    \n",
    "    return l"
   ]
  },
  {
   "cell_type": "code",
   "execution_count": null,
   "metadata": {},
   "outputs": [],
   "source": [
    "#need to look this up in the \n",
    "C_init =np.array([[0,c12,c13],[c21,0,c23],[c31,c32,0]])\n",
    "\n",
    "C = optimize.fmin_cg(cost_fn, x_opt, args=(C_init, K,gamma,delta))\n",
    "\n"
   ]
  }
 ],
 "metadata": {
  "kernelspec": {
   "display_name": "Python 3",
   "language": "python",
   "name": "python3"
  },
  "language_info": {
   "codemirror_mode": {
    "name": "ipython",
    "version": 3
   },
   "file_extension": ".py",
   "mimetype": "text/x-python",
   "name": "python",
   "nbconvert_exporter": "python",
   "pygments_lexer": "ipython3",
   "version": "3.7.2"
  }
 },
 "nbformat": 4,
 "nbformat_minor": 2
}
